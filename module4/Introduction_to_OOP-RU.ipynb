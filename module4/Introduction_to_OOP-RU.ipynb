{
 "cells": [
  {
   "cell_type": "raw",
   "metadata": {
    "raw_mimetype": "text/restructuredtext"
   },
   "source": [
    ".. meta::\n",
    "   :description: Topic: Introducing object oriented programming in python, Difficulty: Easy, Category: Section\n",
    "   :keywords: class, type, creation, definition, intro, overview, basics, meaning"
   ]
  },
  {
   "cell_type": "markdown",
   "metadata": {},
   "source": [
    "# Введение в объектно-ориентированное программирование\n",
    "\n",
    "В ходе первого экскурса в основы языка Python мы познакомились с [базовыми типами объектов: числами, строками и списками](http://www.pythonlikeyoumeanit.com/Module2_EssentialsOfPython/Basic_Objects.html). Аналогичным образом, наши рассуждения о NumPy строились вокруг [многомерных массивов](http://www.pythonlikeyoumeanit.com/Module3_IntroducingNumpy/IntroducingTheNDarray.html). Различия между всеми этими типами объектов в значительной мере состоят в присущих им функциях, называемых **методами**. Например, строка обладает методами, служащими для манипуляций последовательностью составляющих ее символов, а массив NumPy - методами для выполнения операций над хранящимися в нем числовыми значениями."
   ]
  },
  {
   "cell_type": "code",
   "execution_count": 5,
   "metadata": {
    "tags": []
   },
   "outputs": [
    {
     "data": {
      "text/plain": [
       "'Hello world'"
      ]
     },
     "execution_count": 5,
     "metadata": {},
     "output_type": "execute_result"
    }
   ],
   "source": [
    "# Каждому типу объектов могут быть присущи собственные методы \n",
    "\n",
    "string = \"hello world\"\n",
    "string.capitalize() # использование строкового метода `capitalize`"
   ]
  },
  {
   "cell_type": "code",
   "execution_count": 8,
   "metadata": {
    "tags": []
   },
   "outputs": [
    {
     "data": {
      "text/plain": [
       "15"
      ]
     },
     "execution_count": 8,
     "metadata": {},
     "output_type": "execute_result"
    }
   ],
   "source": [
    "import numpy as np\n",
    "\n",
    "array = np.array([[0, 1, 2],\n",
    "                  [3, 4, 5]])\n",
    "array.sum()  # использование имеющегося у массива мтеода `sum`"
   ]
  },
  {
   "cell_type": "markdown",
   "metadata": {},
   "source": [
    "Объект также может содержать в себе данные, называемые **атрибутами**, которые позволяют получить информацию об этом объекте. Например, у массива NumPy есть атрибуты `ndim` и `shape`, дающие информацию о его организации и структуре."
   ]
  },
  {
   "cell_type": "code",
   "execution_count": 7,
   "metadata": {
    "tags": []
   },
   "outputs": [
    {
     "data": {
      "text/plain": [
       "2"
      ]
     },
     "execution_count": 7,
     "metadata": {},
     "output_type": "execute_result"
    }
   ],
   "source": [
    "# обращение к атрибутам объекта\n",
    "array.ndim"
   ]
  },
  {
   "cell_type": "code",
   "execution_count": 4,
   "metadata": {
    "tags": []
   },
   "outputs": [
    {
     "data": {
      "text/plain": [
       "(2, 3)"
      ]
     },
     "execution_count": 4,
     "metadata": {},
     "output_type": "execute_result"
    }
   ],
   "source": [
    "array.shape"
   ]
  },
  {
   "cell_type": "markdown",
   "metadata": {},
   "source": [
    "В этом модуле мы научимся создавать собственные произвольные объекты с необходимым набором атрибутов и методов, используя Python как \"объектно-ориентированный\" язык программирования; это позволит нам расширить свои компетенции в разработке на Python и достичь более глубокого понимания самого языка.\n",
    "\n",
    "В качестве первого ознакомительного примера давайте создадим собственный класс объектов под названием `Rectangle`:"
   ]
  },
  {
   "cell_type": "code",
   "execution_count": 3,
   "metadata": {
    "tags": []
   },
   "outputs": [],
   "source": [
    "class Rectangle:\n",
    "    \"\"\" A Python object that describes the properties of a rectangle \"\"\"\n",
    "    def __init__(self, width, height, center=(0.0, 0.0)):\n",
    "        \"\"\" Sets the attributes of a particular instance of `Rectangle`.\n",
    "\n",
    "            Parameters\n",
    "            ----------\n",
    "            width : float\n",
    "                The x-extent of this rectangle instance.\n",
    "\n",
    "            height : float\n",
    "                The y-extent of this rectangle instance.\n",
    "\n",
    "            center : Tuple[float, float], optional (default=(0, 0))\n",
    "                The (x, y) position of this rectangle's center\"\"\"\n",
    "        self.width = width    \n",
    "        self.height = height  \n",
    "        self.center = center\n",
    "    \n",
    "    def __repr__(self):\n",
    "        \"\"\" Returns a string to be used as a printable representation \n",
    "            of a given rectangle.\"\"\"\n",
    "        return \"Rectangle(width={w}, height={h}, center={c})\".format(h=self.height,\n",
    "                                                                     w=self.width,\n",
    "                                                                     c=self.center)\n",
    "\n",
    "    def compute_area(self):\n",
    "        \"\"\" Returns the area of this rectangle \n",
    "\n",
    "            Returns\n",
    "            -------\n",
    "            float\"\"\"\n",
    "        return self.width * self.height\n",
    "\n",
    "    def compute_corners(self):\n",
    "        \"\"\" Computes the (x, y) corner-locations of this rectangle, starting with the\n",
    "            'top-right' corner, and proceeding clockwise. \n",
    "\n",
    "            Returns\n",
    "            -------\n",
    "            List[Tuple[float, float], Tuple[float, float], Tuple[float, float], Tuple[float, float]]\"\"\"\n",
    "        cx, cy = self.center\n",
    "        dx = self.width / 2.0\n",
    "        dy = self.height / 2.0\n",
    "        return [(cx + x, cy + y) for x,y in ((dx, dy), (dx, -dy), (-dx, -dy), (-dx, dy))]"
   ]
  },
  {
   "cell_type": "markdown",
   "metadata": {},
   "source": [
    "Экземпляром этого класса `Rectangle` будет некий прямоугольник с такими *атрибутами* как ширина, высота и координаты центра. Кроме того, можно воспользоваться *методами* этого прямоугольника (атрибутами, представляющими собой функции) для вычисления его площади и координат каждого из углов. "
   ]
  },
  {
   "cell_type": "code",
   "execution_count": 4,
   "metadata": {
    "tags": []
   },
   "outputs": [
    {
     "data": {
      "text/plain": [
       "Rectangle(width=4, height=10, center=(0.0, 0.0))"
      ]
     },
     "execution_count": 4,
     "metadata": {},
     "output_type": "execute_result"
    }
   ],
   "source": [
    "# создание прямоугльника с шириной 4, высотой 10 и центром в точке (0, 0)\n",
    "# в этот момент выполняется __init__ и задаются значения атрибутов width/height/center\n",
    "rect1 = Rectangle(4, 10)  \n",
    "\n",
    "# метод __repr__ задает то, каким образом прямоугольник отображается\n",
    "# в консоли\n",
    "rect1  "
   ]
  },
  {
   "cell_type": "code",
   "execution_count": 14,
   "metadata": {
    "tags": []
   },
   "outputs": [
    {
     "data": {
      "text/plain": [
       "40"
      ]
     },
     "execution_count": 14,
     "metadata": {},
     "output_type": "execute_result"
    }
   ],
   "source": [
    "# вычислим площадь данного конкретного прямоугольника\n",
    "rect1.compute_area()      "
   ]
  },
  {
   "cell_type": "code",
   "execution_count": 15,
   "metadata": {
    "tags": []
   },
   "outputs": [
    {
     "data": {
      "text/plain": [
       "[(2.0, 5.0), (2.0, -5.0), (-2.0, -5.0), (-2.0, 5.0)]"
      ]
     },
     "execution_count": 15,
     "metadata": {},
     "output_type": "execute_result"
    }
   ],
   "source": [
    "# найдем координаты каждого из его углов\n",
    "rect1.compute_corners()"
   ]
  },
  {
   "cell_type": "markdown",
   "metadata": {},
   "source": [
    "Как и в случае с любыми другими объектами в Python, встречавшимися нам ранее, прямоугольники класса `Rectangle` можно сложить в список, хранить как значения в словарях, передавать в функции как аргументы, присваивать их как значения переменным, в т.ч. сразу нескольким, и т.д. \n",
    "\n",
    "В популярных библиотеках Python для решения задач в области математики и статистики, анализа данных и машинного обучения широко используется возможность создавать произвольные классы объектов. Например, в [pandas](https://pandas.pydata.org/) задан таблицеподобный класс `DataFrame`; в [PyTorch](https://pytorch.org/), [MXNet](https://mxnet.incubator.apache.org/) и [TensorFlow](https://www.tensorflow.org/) задаются классы тензоров, наделенные способностью к [автодифференциации](https://en.wikipedia.org/wiki/Automatic_differentiation), которая совершенно необходима для тренировки нейросетей. Понимание системы классов в Python позволит вам гораздо эффективнее пользоваться всеми подобными библиотеками (бессовестная самореклама: с примером реализации библиотеки для автодифференциации на чистом Python/NumPy можно познакомиться в [дипломной работе автора](https://mygrad.readthedocs.io))\n",
    "\n",
    "Далее мы рассмотрим основные принципы *задания классов* и используем их для объявления собственных классов (или типов) объектов, а затем займемся созданием отдельных *экземпляров* данного типа объекта и написанием методов. Это повлечет за собой знакомство со *специальными методами*, позволяющими определять поведение объектов в выражениях с использованием стандартных операторов языка Python, таких как `+`. И, наконец, коснемся механизма наследования классов в Python. \n",
    "\n",
    "<div class=\"alert alert-info\">\n",
    "\n",
    "**Вывод:**\n",
    "\n",
    "Цель этого модуля - научиться задавать и использовать пользовательские классы питоновских ообъектов. При этом формируется более зрелое понимание Python как объектно-ориентированного языка программирования, что позволяет в полной мере реализовать все его возможности.  \n",
    "\n",
    "</div>\n",
    "\n",
    "## Класс vs. тип: важный терминологический комментарий.\n",
    "Прежде, чем двигаться дальше, имеет смысл обратить внимание на то, что термины \"type\" и \"class\" в Python являются практически синонимами. До сих пор для проведения различий между объектами мы пользовались только термином \"тип\", напр. `1` относится к типу `int` а `\"cat\"`  - к типу `str`. Однако теперь нам предстоит научиться задавать *class*-ы для создания объектов новых типов, а наш лексикон пополнится функциями вроде `issubclass`. Тем не менее, *class* и *type* означают одно и то же! Для сосуществования этих двух терминов есть причины исторического характера, однако [начиная с Python 2.2](https://www.python.org/download/releases/2.2/descrintro/) понятия \"тип\" и \"класс\" были объединены.\n",
    "\n",
    "На практике слово \"тип\" обычно используется применительно ко встроенным типам (напр. `int` и `str`), а \"класс\" - для обозначения типов, созданных пользователем, хотя в современных версиях Python различий между ними по сути не существует."
   ]
  },
  {
   "cell_type": "markdown",
   "metadata": {},
   "source": [
    "<div class=\"alert alert-info\">\n",
    "\n",
    "**Вывод:**\n",
    "\n",
    "Термины \"тип\" и \"класс\" являются синонимами; и тот, и другой обозначают инкапсулирующее определение конкретного типа/класса питоновского объекта со всеми его  атрибутами. И хотя внутри собственно языка Python они не взаимозаменямы - мы задаем определения классов, а не типов, и используемом встроенную функцию `type`, а не `class`для проверки объекта - эти различия представляют собой не более чем реликты давно вышедших из употребления версий Python.\n",
    "\n",
    "</div>"
   ]
  },
  {
   "cell_type": "markdown",
   "metadata": {},
   "source": [
    "## Ссылки на официальную документацию\n",
    "\n",
    "- [Практическое руководство по Python: Первое знакомство с классами.](https://docs.python.org/3/tutorial/classes.html#a-first-look-at-classes)"
   ]
  },
  {
   "cell_type": "markdown",
   "metadata": {
    "tags": []
   },
   "source": [
    "© Copyright 2021, Ryan Soklaski. Перевод с [английского](https://github.com/rsokl/Learning_Python/blob/master/docs/Module2_EssentialsOfPython/Iterables.ipynb) Максим Миславский, 2024."
   ]
  },
  {
   "cell_type": "code",
   "execution_count": null,
   "metadata": {},
   "outputs": [],
   "source": []
  }
 ],
 "metadata": {
  "jupytext": {
   "text_representation": {
    "extension": ".md",
    "format_name": "markdown",
    "format_version": "1.3",
    "jupytext_version": "1.13.6"
   }
  },
  "kernelspec": {
   "display_name": "Python 3 (ipykernel)",
   "language": "python",
   "name": "python3"
  },
  "language_info": {
   "codemirror_mode": {
    "name": "ipython",
    "version": 3
   },
   "file_extension": ".py",
   "mimetype": "text/x-python",
   "name": "python",
   "nbconvert_exporter": "python",
   "pygments_lexer": "ipython3",
   "version": "3.11.5"
  }
 },
 "nbformat": 4,
 "nbformat_minor": 4
}
