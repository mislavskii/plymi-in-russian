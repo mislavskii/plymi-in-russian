{
 "cells": [
  {
   "cell_type": "raw",
   "metadata": {
    "lines_to_next_cell": 2,
    "raw_mimetype": "text/restructuredtext"
   },
   "source": [
    ".. meta::\n",
    "   :description: Topic: The rules for defining classes in python, Difficulty: Easy, Category: Section\n",
    "   :keywords: class definition, scope, class object, attribute, method"
   ]
  },
  {
   "cell_type": "markdown",
   "metadata": {},
   "source": [
    "# Создание нового класса объектов.\n",
    "\n",
    "В этом разделе показан базовый синтаксис объявления нового класса (или типа) объектов в Python. Здесь уместно напомнить, что для объявления функции используется команда `def`. Точно так же, команда `class` указывает на начало определения нового класса. Тело определения класса, представляющее собой сдвинутый вправо блок кода, идущий ниже команды `class`, содержит в себе определения различных **атрибутов** объявляемого класса.\n",
    "\n",
    "Нижеприведенный код задаёт новый класс объектов с именем `MyGuy` и четырьмя атрибутами `x`, `y`, `z`, и `f`"
   ]
  },
  {
   "cell_type": "code",
   "execution_count": 1,
   "metadata": {
    "tags": []
   },
   "outputs": [],
   "source": [
    "# defining a new class/type of object\n",
    "class MyGuy:\n",
    "    x = 1 + 2\n",
    "    y = [2, 4, 6]\n",
    "    z = \"hi\"\n",
    "    \n",
    "    def f():\n",
    "        return 3\n",
    "\n",
    "# leaving the indented region ends the class definition"
   ]
  },
  {
   "cell_type": "markdown",
   "metadata": {},
   "source": [
    "После того, как этот код, задающий новый класс объектов, будет выполнен, к объекту можно обращаться. Ниже показано обращение к различным аттрибутам класса `MyGuy`."
   ]
  },
  {
   "cell_type": "code",
   "execution_count": 2,
   "metadata": {
    "tags": []
   },
   "outputs": [
    {
     "data": {
      "text/plain": [
       "3"
      ]
     },
     "execution_count": 2,
     "metadata": {},
     "output_type": "execute_result"
    }
   ],
   "source": [
    "MyGuy.x\n",
    "# 3"
   ]
  },
  {
   "cell_type": "code",
   "execution_count": 3,
   "metadata": {
    "tags": []
   },
   "outputs": [
    {
     "data": {
      "text/plain": [
       "[2, 4, 6]"
      ]
     },
     "execution_count": 3,
     "metadata": {},
     "output_type": "execute_result"
    }
   ],
   "source": [
    "MyGuy.y\n",
    "# [2, 4, 6]"
   ]
  },
  {
   "cell_type": "code",
   "execution_count": 4,
   "metadata": {
    "tags": []
   },
   "outputs": [
    {
     "data": {
      "text/plain": [
       "'hi'"
      ]
     },
     "execution_count": 4,
     "metadata": {},
     "output_type": "execute_result"
    }
   ],
   "source": [
    "MyGuy.z\n",
    "# \"hi\""
   ]
  },
  {
   "cell_type": "code",
   "execution_count": 5,
   "metadata": {
    "tags": []
   },
   "outputs": [
    {
     "data": {
      "text/plain": [
       "<function __main__.MyGuy.f()>"
      ]
     },
     "execution_count": 5,
     "metadata": {},
     "output_type": "execute_result"
    }
   ],
   "source": [
    "MyGuy.f\n",
    "# <function __main__.MyGuy.f>"
   ]
  },
  {
   "cell_type": "markdown",
   "metadata": {},
   "source": [
    "Отметим, что к любому из атрибутов можно обратиться через \"точку\": `object.attribute_name`. Атрибут `f` является функцией, поэтому его можно вызвать и получить результат вычисления, как обычно:"
   ]
  },
  {
   "cell_type": "code",
   "execution_count": 6,
   "metadata": {
    "tags": []
   },
   "outputs": [
    {
     "data": {
      "text/plain": [
       "3"
      ]
     },
     "execution_count": 6,
     "metadata": {},
     "output_type": "execute_result"
    }
   ],
   "source": [
    "# вызов атрибута f\n",
    "MyGuy.f()\n",
    "# 3"
   ]
  },
  {
   "cell_type": "markdown",
   "metadata": {},
   "source": [
    "Атрибут объекта, являющийся в то же время функцией, называют **методом**. Так, `f` - это метод класса `MyGuy`.\n",
    "\n",
    "`MyGuy` - это единственный в своем роде объект класса, содержащий в себе созданное нами определение данного класса. В этом смысле он подобен встроенным классам `list`, `str` и `int`. Мы будем использовать`MyGuy` для создания объектов, являющихся *экземплярами* этого класса, точно так же, как `\"cat\"` - это экземпляр класса `str`. Подробнее об этом чуть позже. "
   ]
  },
  {
   "cell_type": "markdown",
   "metadata": {},
   "source": [
    "<div class=\"alert alert-info\">\n",
    "\n",
    "**Вывод:**\n",
    "\n",
    "Команда `class` обозначает определение нового класса объектов, внутри которого задаются атрибуты этого класса. Атрибут может \"связывать\" с классом другие объекты Python (числа, строки, списки и  т.д.), в отм числе и функции. Атрибуты, представляющие собой функции, называются *методами*. Синтаксическая конструкция `obj.attr` служит для \"доступа\" к аттрибуту `attr` объекта `obj` через точку.  \n",
    "\n",
    "</div>"
   ]
  },
  {
   "cell_type": "markdown",
   "metadata": {},
   "source": [
    "## Общая структура определения класса.\n",
    "Структура определения класса в общем виде представляет собой просто набор определений его атрибутов - в форме либо присвоения значений переменным, либо объявления функций - образующих в своей совокупности новый класс объектов со своими атрибутами и методами:\n",
    "\n",
    "```python\n",
    "class ClassName:\n",
    "    \"\"\" документирующая строка \"\"\"\n",
    "    <statement-1>\n",
    "    .\n",
    "    .\n",
    "    .\n",
    "    <statement-N>\n",
    "```\n",
    "\n",
    "где каждым `<statement-j>` задаётся атрибут (напр. `z = \"hi\"` задаёт атрибут `z`) или путём объявления функции создаётся метод данного класса объектов. \n",
    "\n",
    "Так же, как и определения функций, определения классов могут собержать в себе практически любой код на Python, причем определение образует собвственное [пространство имён](http://www.pythonlikeyoumeanit.com/Module2_EssentialsOfPython/Scope.html); тем не менее, *любые* переменные, объявленные внутри определения класа, становятся доступными как его атрибуты. "
   ]
  },
  {
   "cell_type": "code",
   "execution_count": 7,
   "metadata": {
    "tags": []
   },
   "outputs": [],
   "source": [
    "# Любая переменная, объявленная внутри определения класса, становится\n",
    "# доступной как атрибут этого класса объектов, даже если\n",
    "# она задана внутри цикла.\n",
    "\n",
    "class Dummy:\n",
    "    cnt = 0\n",
    "    \n",
    "    for i in range(5, 11):\n",
    "        # i = 5\n",
    "        # i = 6\n",
    "        # ...\n",
    "        # i = 10\n",
    "        cnt += i\n",
    "    \n",
    "    # в последней итерации цикла i = 10\n",
    "    # таким образом, i является атрибутом Dummy со значением 10"
   ]
  },
  {
   "cell_type": "code",
   "execution_count": 8,
   "metadata": {
    "tags": []
   },
   "outputs": [
    {
     "data": {
      "text/plain": [
       "45"
      ]
     },
     "execution_count": 8,
     "metadata": {},
     "output_type": "execute_result"
    }
   ],
   "source": [
    "Dummy.cnt  # cnt = 0 + 5 + 6 + 7 + 8 + 9 + 10\n",
    "# 45"
   ]
  },
  {
   "cell_type": "code",
   "execution_count": 9,
   "metadata": {
    "tags": []
   },
   "outputs": [
    {
     "data": {
      "text/plain": [
       "10"
      ]
     },
     "execution_count": 9,
     "metadata": {},
     "output_type": "execute_result"
    }
   ],
   "source": [
    "Dummy.i\n",
    "# 10"
   ]
  },
  {
   "cell_type": "markdown",
   "metadata": {},
   "source": [
    "<div class=\"alert alert-warning\">\n",
    "\n",
    "**Имена для классов объектов:**\n",
    "\n",
    "Имена новых классов (типов) объектов принято оформлять \"верблюжьим регистром\". То есть, если класс объектов нужно назвать \"pizza shop\", используется `PizzaShop`. В этом состоит отличие от имён переменных, функций, и *экземпляров* класса объектов (с ними мы еще познакомимся), в которых принято использовать нижний регистр с символом подчеркивания вместо пробелов (змеиный регистр).\n",
    "\n",
    "</div>"
   ]
  },
  {
   "cell_type": "markdown",
   "metadata": {},
   "source": [
    "<div class=\"alert alert-info\">\n",
    "\n",
    "**Контрольное задание: Создайте собственный класс объектов**\n",
    "\n",
    "Напишите определение класса объектов с именем `Dog`. У этого класса должно быть два атрибута: \"name\" и \"speak\". Атрибут \"name\" должен привязывать к объекту строку (кличку собаки). Атрибут \"speak\" должен быть *методом*, принимающим строку в качестве входящего аргумента и возвращающим эту же строку с добавлением `\"*woof*\"` с обоих краев (напр. `\"hello\"` -> `\"*woof* hello *woof*\"`)\n",
    "\n",
    "</div>"
   ]
  },
  {
   "cell_type": "markdown",
   "metadata": {},
   "source": [
    "## Действия с атрибутами объектов.\n",
    "При попытке обращения к незаданному атрибуту объекта возникает `AttributeError`:"
   ]
  },
  {
   "cell_type": "code",
   "execution_count": 10,
   "metadata": {
    "tags": []
   },
   "outputs": [
    {
     "ename": "AttributeError",
     "evalue": "type object 'MyGuy' has no attribute 'apple'",
     "output_type": "error",
     "traceback": [
      "\u001b[1;31m---------------------------------------------------------------------------\u001b[0m",
      "\u001b[1;31mAttributeError\u001b[0m                            Traceback (most recent call last)",
      "Cell \u001b[1;32mIn[10], line 1\u001b[0m\n\u001b[1;32m----> 1\u001b[0m MyGuy\u001b[38;5;241m.\u001b[39mapple\n",
      "\u001b[1;31mAttributeError\u001b[0m: type object 'MyGuy' has no attribute 'apple'"
     ]
    }
   ],
   "source": [
    "MyGuy.apple\n",
    "# AttributeError: type object 'MyGuy' has no attribute 'apple'"
   ]
  },
  {
   "cell_type": "markdown",
   "metadata": {},
   "source": [
    "Чтобы проверить, обладает ли объект неким атрибутом, можно воспользоваться встроенной функцией `hasattr`:"
   ]
  },
  {
   "cell_type": "code",
   "execution_count": 11,
   "metadata": {
    "tags": []
   },
   "outputs": [
    {
     "data": {
      "text/plain": [
       "False"
      ]
     },
     "execution_count": 11,
     "metadata": {},
     "output_type": "execute_result"
    }
   ],
   "source": [
    "# демонстрация использования функции `hasattr`\n",
    "hasattr(MyGuy, \"apple\")  # MyGuy.apple не задан\n",
    "# False"
   ]
  },
  {
   "cell_type": "code",
   "execution_count": 12,
   "metadata": {
    "tags": []
   },
   "outputs": [
    {
     "data": {
      "text/plain": [
       "True"
      ]
     },
     "execution_count": 12,
     "metadata": {},
     "output_type": "execute_result"
    }
   ],
   "source": [
    "hasattr(MyGuy, \"x\")      # MyGuy.x задан\n",
    "# True"
   ]
  },
  {
   "cell_type": "markdown",
   "metadata": {},
   "source": [
    "Помимо доступа к атрибутам через точку, можно воспользоваться встроенной функцией `getattr` - результат будет точно таким же:"
   ]
  },
  {
   "cell_type": "code",
   "execution_count": 13,
   "metadata": {
    "tags": []
   },
   "outputs": [
    {
     "data": {
      "text/plain": [
       "3"
      ]
     },
     "execution_count": 13,
     "metadata": {},
     "output_type": "execute_result"
    }
   ],
   "source": [
    "MyGuy.x\n",
    "# 3"
   ]
  },
  {
   "cell_type": "code",
   "execution_count": 14,
   "metadata": {
    "tags": []
   },
   "outputs": [
    {
     "data": {
      "text/plain": [
       "3"
      ]
     },
     "execution_count": 14,
     "metadata": {},
     "output_type": "execute_result"
    }
   ],
   "source": [
    "# демонстрация использования функции `getattr`\n",
    "getattr(MyGuy, \"x\")\n",
    "# 3"
   ]
  },
  {
   "cell_type": "markdown",
   "metadata": {},
   "source": [
    "Как ни странно, новые атрибуты могут быть присвоены (или \"назначены\") объекту даже *после* того, как класс объектов уже был задан. Этой цели служит встроенная функция `setattr`:"
   ]
  },
  {
   "cell_type": "code",
   "execution_count": 15,
   "metadata": {
    "tags": []
   },
   "outputs": [
    {
     "data": {
      "text/plain": [
       "False"
      ]
     },
     "execution_count": 15,
     "metadata": {},
     "output_type": "execute_result"
    }
   ],
   "source": [
    "hasattr(MyGuy, \"apple\")  # MyGuy.apple не задан\n",
    "# False"
   ]
  },
  {
   "cell_type": "code",
   "execution_count": 16,
   "metadata": {
    "tags": []
   },
   "outputs": [
    {
     "data": {
      "text/plain": [
       "'red'"
      ]
     },
     "execution_count": 16,
     "metadata": {},
     "output_type": "execute_result"
    }
   ],
   "source": [
    "# использование `setattr` для присвоения аттрибута `apple` классу `MyGuy` \n",
    "setattr(MyGuy, \"apple\", \"red\")\n",
    "MyGuy.apple\n",
    "# 'red'"
   ]
  },
  {
   "cell_type": "markdown",
   "metadata": {},
   "source": [
    "Сущесвует и еще менее формальный способ назначения атрибутов - достаточно воспользоваться синтаксической конструкцией простого присвоения значения:"
   ]
  },
  {
   "cell_type": "code",
   "execution_count": 17,
   "metadata": {
    "tags": []
   },
   "outputs": [
    {
     "data": {
      "text/plain": [
       "False"
      ]
     },
     "execution_count": 17,
     "metadata": {},
     "output_type": "execute_result"
    }
   ],
   "source": [
    "hasattr(MyGuy, \"grape\")  # MyGuy.grape is not defined\n",
    "# False"
   ]
  },
  {
   "cell_type": "code",
   "execution_count": 18,
   "metadata": {
    "tags": []
   },
   "outputs": [
    {
     "data": {
      "text/plain": [
       "'purple'"
      ]
     },
     "execution_count": 18,
     "metadata": {},
     "output_type": "execute_result"
    }
   ],
   "source": [
    "# назначение атрибута `grape` классу `MyGuy` \n",
    "MyGuy.grape = \"purple\"  # с одновременным присвоением значения \n",
    "MyGuy.grape\n",
    "# 'purple'"
   ]
  },
  {
   "cell_type": "code",
   "execution_count": 19,
   "metadata": {
    "tags": []
   },
   "outputs": [
    {
     "data": {
      "text/plain": [
       "-1"
      ]
     },
     "execution_count": 19,
     "metadata": {},
     "output_type": "execute_result"
    }
   ],
   "source": [
    "MyGuy.x = -1  # присвоение нового значения атрибуту 'x'\n",
    "MyGuy.x\n",
    "# -1"
   ]
  },
  {
   "cell_type": "markdown",
   "metadata": {},
   "source": [
    "Может показаться, что, раз объектам можно присваивать дополнительные атрибуты с такой непринужденностью, объявление класса сводится к простой формальности. Тем не менее, хотя Python и славится своей нетребовательностью к способам написания кода, следует иметь в виду, что создание атрибутов класса объектов за пределами его формального определения считается нежелательным."
   ]
  },
  {
   "cell_type": "markdown",
   "metadata": {},
   "source": [
    "<div class=\"alert alert-info\">\n",
    "\n",
    "**Вывод:**\n",
    "\n",
    "Встроенные функции `hasattr`, `getattr`, и `setattr` позволяют по имени атрибута проверить, существует ли он, получить и задать его значение соответственно. Объекты в Python обладают потрясающей гибкостью, допуская создание атрибутов вне формального определения класса. При этом все же важно оставаться в пределах разумного и по возможности придерживаться подхода, при котором определение класса служит формальным контрактом/спецификацией.\n",
    "\n",
    "</div>"
   ]
  },
  {
   "cell_type": "markdown",
   "metadata": {},
   "source": [
    "## Ссылки на официальную документацию\n",
    "\n",
    "- [Практическое руоводство по программированию на Python: Классы как объекты.](https://docs.python.org/3/tutorial/classes.html#class-objects)"
   ]
  },
  {
   "cell_type": "markdown",
   "metadata": {},
   "source": [
    "## Ответы на контрольные задания."
   ]
  },
  {
   "cell_type": "markdown",
   "metadata": {},
   "source": [
    "**Создание класса: Решение.**\n",
    "    \n",
    "Напишите определение класса объектов с именем `Dog`. У этого класса должно быть два атрибута: \"name\" и \"speak\". Атрибут \"name\" должен привязывать к объекту строку (кличку собаки). Атрибут \"speak\" должен быть *методом*, принимающим строку в качестве входящего аргумента и возвращающим эту же строку с добавлением `\"*woof*\"` с обоих краев (напр. `\"hello\"` -> `\"*woof* hello *woof*\"`)\n",
    "\n",
    "```python\n",
    "class Dog:\n",
    "    name = \"Charlie\"\n",
    "    \n",
    "    def speak(input_string):\n",
    "        return \"*woof* \" + input_string + \" *woof*\"\n",
    "```"
   ]
  },
  {
   "cell_type": "markdown",
   "metadata": {
    "tags": []
   },
   "source": [
    "<br></br>\n",
    "© Copyright 2021, Ryan Soklaski. Адаптированный перевод с [английского](https://github.com/rsokl/Learning_Python/blob/master/docs/Module2_EssentialsOfPython/Iterables.ipynb) Максим Миславский, 2024."
   ]
  },
  {
   "cell_type": "code",
   "execution_count": null,
   "metadata": {},
   "outputs": [],
   "source": []
  }
 ],
 "metadata": {
  "jupytext": {
   "text_representation": {
    "extension": ".md",
    "format_name": "markdown",
    "format_version": "1.3",
    "jupytext_version": "1.13.6"
   }
  },
  "kernelspec": {
   "display_name": "Python 3 (ipykernel)",
   "language": "python",
   "name": "python3"
  },
  "language_info": {
   "codemirror_mode": {
    "name": "ipython",
    "version": 3
   },
   "file_extension": ".py",
   "mimetype": "text/x-python",
   "name": "python",
   "nbconvert_exporter": "python",
   "pygments_lexer": "ipython3",
   "version": "3.11.5"
  }
 },
 "nbformat": 4,
 "nbformat_minor": 4
}
