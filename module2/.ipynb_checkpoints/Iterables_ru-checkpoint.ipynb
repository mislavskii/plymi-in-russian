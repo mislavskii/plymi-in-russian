{
 "cells": [
  {
   "cell_type": "raw",
   "metadata": {
    "raw_mimetype": "text/restructuredtext"
   },
   "source": [
    ".. meta::\n",
    "   :description: Topic: the basics of iterables in python, Difficulty: Medium, Category: Section\n",
    "   :keywords: iterables, max, min, sum, all, any, itertools, enumerate, unpack"
   ]
  },
  {
   "cell_type": "markdown",
   "metadata": {},
   "source": [
    "# Итерируемые объекты\n",
    "При знакомстве с циклами \"for\" нам встретился термин *итерируемый объект* - сущность, содержащая элементы, которые можно \"перебрать\", как, например, это делается в цикле for.\n",
    "\n",
    "<div class=\"alert alert-info\">\n",
    "\n",
    "**Определение**:\n",
    "\n",
    "**Итерируемое** - это любой объект Python, элементы которого можно получать один за другим, что позволяет перебрать их в цикле for.\n",
    "</div>\n",
    "\n",
    "Мы уже знакомы с такими примерами итерируемых объектов как списки, кортежи и строки - любая из этих последовательностей может быть перебрана в цикле for. Кроме того, нам еще предстоит встреча с важными неупорядоченными коллекциями - словарями и множествами; они также являются итерируемыми. Существуют и итерируемые, \"генерирующие\" свои элементы непосредственно в процессе перебора - даже не храня их в памяти все сразу. Таким генераторам, представляющим собой особый вид итерируемых объектов, будет посвящен отдельный раздел.\n",
    "\n",
    "А сейчас давайте посмотрим, как работать с итерируемыми объектами в коде.\n",
    "\n",
    "<div class=\"alert alert-warning\">\n",
    "\n",
    "**Примечание**:\n",
    "\n",
    "\"Под капотом\" у любого итерируемого объекта Python имеется метод `__iter__()` или метод `__getitem__()`, реализующий семантику `Последовательности`. Эти нюансы обретут более четкие очертания после изучения модуля \"Объектно-ориентированное программирование\".\n",
    "</div>"
   ]
  },
  {
   "cell_type": "markdown",
   "metadata": {},
   "source": [
    "## Функции для выполнения операций над итерируемыми объектами\n",
    "Вот лишь некоторые из полезных встроенных функций, принимающих итерируемые объекты а качестве аргументов:\n",
    "\n",
    " - `list`, `tuple`, `dict`, `set`: создание из элементов итерируемого объекта списка, кортежа, [словаря](https://www.pythonlikeyoumeanit.com/Module2_EssentialsOfPython/DataStructures_II_Dictionaries.html) или [множества](https://www.pythonlikeyoumeanit.com/Module2_EssentialsOfPython/DataStructures_III_Sets_and_More.html#The-%E2%80%9CSet%E2%80%9D-Data-Structure) соответственно.\n",
    " - `sum`: получение суммы элементов итерируемого объекта.\n",
    " - `sorted`: возвращает отсортированный список из элементов итерируемого объекта.\n",
    " - `any`: возвращает `True` и сразу же прекращает перебор, как только `bool(item)` оказалась `True` для *любого* элемента итерируемого объекта.\n",
    " - `all`: возвращает `True` только в том случае, когда `bool(item)` выдала `True` для *всех* элементов итерируемого объекта.\n",
    " - `max`: возвращает самое большое значение в составе итерируемого.\n",
    " - `min`: возвращает самое маленькое значение в составе итерируемого.\n",
    " \n",
    "```python\n",
    "# Примеры использования встроенных функций для операций над итерируемыми объектами\n",
    ">>> list(\"I am a cow\")\n",
    "['I', ' ', 'a', 'm', ' ', 'a', ' ', 'c', 'o', 'w']\n",
    "\n",
    ">>> sum([1, 2, 3])\n",
    "6\n",
    "\n",
    ">>> sorted(\"gheliabciou\")\n",
    "['a', 'b', 'c', 'e', 'g', 'h', 'i', 'i', 'l', 'o', 'u']\n",
    "\n",
    "# `bool(item)` выдает `False` для каждого из этих элементов\n",
    ">>> any((0, None, [], 0))\n",
    "False\n",
    "\n",
    "# `bool(item)` выдаёт `True` для каждого из этих элементов\n",
    ">>> all([1, (0, 1), True, \"hi\"])\n",
    "True\n",
    "\n",
    ">>> max((5, 8, 9, 0))\n",
    "9\n",
    "\n",
    ">>> min(\"hello\")\n",
    "'e'\n",
    "```"
   ]
  },
  {
   "cell_type": "markdown",
   "metadata": {},
   "source": [
    "## Эффективные приемы работы с итерируемыми\n",
    "Python предусматривает несколько синтаксических \"примочек\" для работы с итерируемыми объектами. В частности, это \"распаковка\" и \"перечисление\". Although these may seem like inconsequential niceties at first glance, they deserve our attention because they will help us write clean, readable code. Writing clean, readable code leads to bug-free algorithms that are easy to understand. Furthermore, these tricks will also facilitate the use of other great Python features, like comprehension-statements, which will be introduced in the coming sections.\n",
    "\n",
    "### \"Unpacking\" iterables\n",
    "Suppose that you have three values stored in a list, and that you want to assign each value to a distinct variable. Given the lessons that we have covered thus far, you would likely write the following code:\n",
    "\n",
    "```python\n",
    "# simple script for assigning contents of a list to variables\n",
    ">>> my_list = [7, 9, 11]\n",
    "\n",
    ">>> x = my_list[0]\n",
    ">>> y = my_list[1]\n",
    ">>> z = my_list[2]\n",
    "```\n",
    "\n",
    "Python provides an extremely useful functionality, known as **iterable unpacking**, which allows us to write the simple, elegant code:\n",
    "\n",
    "```python\n",
    "# assigning contents of a list to variables using iterable unpacking\n",
    ">>> my_list = [7, 9, 11]\n",
    "\n",
    ">>> x, y, z = my_list\n",
    ">>> print(x, y, z)\n",
    "7 9 11\n",
    "```\n",
    "\n",
    "That is, the Python interpreter \"sees\" the pattern of variables to the left of the assignment, and will \"unpack\" the iterable (which happens to be a list in this instance). It may not seem like it from this example, but this is an *extremely* useful feature of Python that greatly improves the readability of code! \n",
    "\n",
    "Iterable unpacking is particularly useful in the context of performing for-loops over iterables-of-iterables. For example, suppose we have a list containing tuples of name-grade pairs:\n",
    "\n",
    "```python\n",
    ">>> grades = [(\"Ashley\", 93), (\"Brad\", 95), (\"Cassie\", 84)]\n",
    "```\n",
    "\n",
    "Recall from the preceding section that if we loop over this list, that the iterate-variable will be assigned to each of these tuples:\n",
    "\n",
    "```python\n",
    "for entry in grades:\n",
    "    print(entry)\n",
    "```\n",
    "will print:\n",
    "```\n",
    "('Ashley', 93)\n",
    "('Brad', 95)\n",
    "('Cassie', 84)\n",
    "```\n",
    "\n",
    "It is likely that we will want to work with the student's name and their grade independently (e.g. use the name to access a log, and add the grade-value to our class statistics); thus we will need to index into `entry` twice to assign its contents to two separate variables. However, because each iteration of the for-loop involves an assignment of the form `entry = (\"Ashley\", 93)`, we can make use of iterable unpacking! That is, we can replace `entry` with `name, grade` and Python will intuitively do an unpacking upon each assignment of the for-loop.\n",
    "\n",
    "```python\n",
    "# The first iteration of this for-loop performs\n",
    "# the unpacking assignment: name, grade = (\"Ashley\", 93)\n",
    "# then the second iteration: name, grade = (\"Brad\", 95)\n",
    "# and so-on\n",
    "for name, grade in grades: \n",
    "    print(name)\n",
    "    print(grade)\n",
    "    print(\"\\n\")\n",
    "```\n",
    "prints:\n",
    "```\n",
    "Ashley\n",
    "93\n",
    "\n",
    "Brad \n",
    "95\n",
    "\n",
    "Cassie \n",
    "84\n",
    "```\n",
    "This for-loop code is concise and supremely readable. It is highly recommended that you make use of iterable unpacking in such contexts.\n",
    "\n",
    "Iterable unpacking is not quite as simple as it might seem. What happens if you provide 4 variables to unpack into, but use an iterable containing 10 items? Although what we have covered thus far conveys the most essential use case, it is good to know that [Python provides an even more extensive syntax for unpacking iterables](https://www.python.org/dev/peps/pep-3132/#specification). We will also see that unpacking can be useful when creating and using functions.\n",
    "\n",
    "<div class=\"alert alert-info\">\n",
    "\n",
    "**Takeaway**: \n",
    "\n",
    "Python provides a sleek syntax for \"unpacking\" the contents of an iterable - assigning each item to its own variable. This allows us to write intuitive, highly-readable code when performing a for-loop over a collection of iterables. \n",
    "</div>"
   ]
  },
  {
   "cell_type": "markdown",
   "metadata": {},
   "source": [
    "### Enumerating iterables\n",
    "The built-in [enumerate](https://docs.python.org/3/library/functions.html#enumerate) function allows us to iterate over an iterable, while keeping track of the iteration count:\n",
    "\n",
    "```python\n",
    "# basic usage of `enumerate`\n",
    ">>> for entry in enumerate(\"abcd\"):\n",
    "...    print(entry)\n",
    "(0, 'a')\n",
    "(1, 'b')\n",
    "(2, 'c')\n",
    "(3, 'd')\n",
    "```\n",
    "\n",
    "In general, the `enumerate` function accepts an iterable as an input, and returns a new iterable that produces a tuple of the iteration-count and the corresponding item from the original iterable. Thus the items in the iterable are being enumerated. To see the utility of this, suppose that we want to record all of the positions in a list where the value `None` is stored. We can achieve this by tracking the iteration count of a for-loop over the list. \n",
    "\n",
    "```python\n",
    "# track which entries of an iterable store the value `None`\n",
    "none_indices = []\n",
    "iter_cnt = 0  # manually track iteration-count\n",
    "\n",
    "for item in [2, None, -10, None, 4, 8]:\n",
    "    if item is None:\n",
    "        none_indices.append(iter_cnt)\n",
    "    iter_cnt = iter_cnt + 1\n",
    "\n",
    "# `none_indices` now stores: [1, 3]\n",
    "```\n",
    "\n",
    "We can simplify this code, and avoid having to initialize or increment the `iter_cnt` variable, by utilizing `enumerate` along with tuple-unpacking.\n",
    "\n",
    "```python\n",
    "# using the `enumerate` function to keep iteration-count\n",
    "none_indices = []\n",
    "\n",
    "# note the use of iterable unpacking! \n",
    "for iter_cnt, item in enumerate([2, None, -10, None, 4, 8]):  \n",
    "    if item is None:\n",
    "        none_indices.append(iter_cnt)\n",
    "        \n",
    "# `none_indices` now stores: [1, 3]\n",
    "```\n",
    "\n",
    "<div class=\"alert alert-info\">\n",
    "\n",
    "**Takeaway**: \n",
    "\n",
    "The built-in [enumerate](https://docs.python.org/3/library/functions.html#enumerate) function should be used (in conjunction with iterator unpacking) whenever it is necessary to track the iteration count of a for-loop. It is valuable to use this in conjunction with tuple unpacking.  \n",
    "</div>"
   ]
  },
  {
   "cell_type": "markdown",
   "metadata": {},
   "source": [
    "<div class=\"alert alert-info\">\n",
    "\n",
    "**Reading Comprehension: enumerate**\n",
    "\n",
    "Use the iterable `\"abcd\"`, the `enumerate` function, and tuple-unpacking in a for-loop to create the list: `[(0, 'a'), (1, 'b'), (2, 'c'), (3, 'd')]`\n",
    "\n",
    "</div>"
   ]
  },
  {
   "cell_type": "code",
   "execution_count": 2,
   "outputs": [
    {
     "data": {
      "text/plain": "[(0, 'a'), (1, 'b'), (2, 'c'), (3, 'd')]"
     },
     "execution_count": 2,
     "metadata": {},
     "output_type": "execute_result"
    }
   ],
   "source": [
    "iterable = \"abcd\"\n",
    "list(enumerate(iterable))"
   ],
   "metadata": {
    "collapsed": false,
    "ExecuteTime": {
     "end_time": "2024-07-19T16:38:01.865508600Z",
     "start_time": "2024-07-19T16:38:01.843003700Z"
    }
   }
  },
  {
   "cell_type": "code",
   "execution_count": 3,
   "outputs": [
    {
     "data": {
      "text/plain": "[(0, 'a'), (1, 'b'), (2, 'c'), (3, 'd')]"
     },
     "execution_count": 3,
     "metadata": {},
     "output_type": "execute_result"
    }
   ],
   "source": [
    "lst = []\n",
    "for index, value in enumerate(iterable):\n",
    "    lst.append((index, value))\n",
    "\n",
    "lst"
   ],
   "metadata": {
    "collapsed": false,
    "ExecuteTime": {
     "end_time": "2024-07-19T17:13:06.411491500Z",
     "start_time": "2024-07-19T17:13:06.402980500Z"
    }
   }
  },
  {
   "cell_type": "markdown",
   "metadata": {},
   "source": [
    "<div class=\"alert alert-info\">\n",
    "\n",
    "**Reading Comprehension: Is it sorted?**\n",
    "\n",
    "Use control flow and looping tools to see if an iterable of numbers is sorted. \n",
    "\n",
    "The variable `unsorted_index` should be initialized to `None`. If the iterable is *not* sorted, `unsorted_index` should store the index where the sequence *first* fell out of order. If the iterable is sorted, then `unsorted_index` should remain `None` and your code should print \"sorted!\".\n",
    "\n",
    "For instance: \n",
    "\n",
    " - given the iterable `my_list = [0, 1, -10, 2]`, `unsorted_index` should take the value `2`. \n",
    " - given the iterable `my_list = [-1, 0, 3, 6]`, `unsorted_index` should be `None` and your code should print \"sorted!\". \n",
    "\n",
    "</div>"
   ]
  },
  {
   "cell_type": "code",
   "execution_count": 6,
   "outputs": [
    {
     "name": "stdout",
     "output_type": "stream",
     "text": [
      "sorted!\n"
     ]
    }
   ],
   "source": [
    "# my_list = [0, 1, -10, 2]\n",
    "my_list = [-1, 0, 3, 6]\n",
    "\n",
    "unsorted_index = None\n",
    "for i in range(len(my_list) - 1):\n",
    "    if my_list[i] > my_list[i+1]:\n",
    "        unsorted_index = i+1\n",
    "        break\n",
    "\n",
    "print(unsorted_index if unsorted_index else 'sorted!')"
   ],
   "metadata": {
    "collapsed": false,
    "ExecuteTime": {
     "end_time": "2024-07-19T17:38:18.739301300Z",
     "start_time": "2024-07-19T17:38:18.731318700Z"
    }
   }
  },
  {
   "cell_type": "markdown",
   "metadata": {},
   "source": [
    "## Links to Official Documentation\n",
    "\n",
    "- [Iterable Definition](https://docs.python.org/3/glossary.html#term-iterable)\n",
    "- [Functions on iterables](https://docs.python.org/3/howto/functional.html#built-in-functions)\n",
    "- [enumerate](https://docs.python.org/3/library/functions.html#enumerate)"
   ]
  },
  {
   "cell_type": "markdown",
   "metadata": {},
   "source": [
    "## Reading Comprehension Exercise Solutions:\n",
    "**enumerate: Solution**\n",
    "\n",
    "```python\n",
    "out = []\n",
    "for num, letter in enumerate(\"abcd\"):\n",
    "    out.append((num, letter))\n",
    "```\n",
    "\n",
    "**Is it sorted?: Solution**\n",
    "```python\n",
    "my_list = [0, 1, -10, 2]\n",
    "unsorted_index = None\n",
    "\n",
    "for index, current_num in enumerate(my_list):\n",
    "    if index == 0:\n",
    "        prev_num = current_num\n",
    "    elif prev_num > current_num:\n",
    "        unsorted_index = index\n",
    "        break\n",
    "    prev_num = current_num\n",
    "else:\n",
    "    print(\"sorted!\")\n",
    "```"
   ]
  }
 ],
 "metadata": {
  "jupytext": {
   "text_representation": {
    "extension": ".md",
    "format_name": "markdown",
    "format_version": "1.3",
    "jupytext_version": "1.13.6"
   }
  },
  "kernelspec": {
   "display_name": "Python 3",
   "language": "python",
   "name": "python3"
  }
 },
 "nbformat": 4,
 "nbformat_minor": 4
}
